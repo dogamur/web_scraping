{
  "nbformat": 4,
  "nbformat_minor": 0,
  "metadata": {
    "colab": {
      "provenance": [],
      "authorship_tag": "ABX9TyNC+UR81rmVCjZX2IKvlPGn",
      "include_colab_link": true
    },
    "kernelspec": {
      "name": "python3",
      "display_name": "Python 3"
    },
    "language_info": {
      "name": "python"
    }
  },
  "cells": [
    {
      "cell_type": "markdown",
      "metadata": {
        "id": "view-in-github",
        "colab_type": "text"
      },
      "source": [
        "<a href=\"https://colab.research.google.com/github/dogamur/web_scraping/blob/main/ebay_webscraper.ipynb\" target=\"_parent\"><img src=\"https://colab.research.google.com/assets/colab-badge.svg\" alt=\"Open In Colab\"/></a>"
      ]
    },
    {
      "cell_type": "code",
      "execution_count": 4,
      "metadata": {
        "colab": {
          "base_uri": "https://localhost:8080/"
        },
        "id": "kTksLG1WWOK5",
        "outputId": "9610485b-7936-4a9a-b9e3-24e37d8b3da4"
      },
      "outputs": [
        {
          "output_type": "stream",
          "name": "stdout",
          "text": [
            "Requirement already satisfied: beautifulsoup4 in /usr/local/lib/python3.10/dist-packages (4.11.2)\n",
            "Requirement already satisfied: requests in /usr/local/lib/python3.10/dist-packages (2.27.1)\n",
            "Requirement already satisfied: soupsieve>1.2 in /usr/local/lib/python3.10/dist-packages (from beautifulsoup4) (2.4.1)\n",
            "Requirement already satisfied: urllib3<1.27,>=1.21.1 in /usr/local/lib/python3.10/dist-packages (from requests) (1.26.16)\n",
            "Requirement already satisfied: certifi>=2017.4.17 in /usr/local/lib/python3.10/dist-packages (from requests) (2023.5.7)\n",
            "Requirement already satisfied: charset-normalizer~=2.0.0 in /usr/local/lib/python3.10/dist-packages (from requests) (2.0.12)\n",
            "Requirement already satisfied: idna<4,>=2.5 in /usr/local/lib/python3.10/dist-packages (from requests) (3.4)\n"
          ]
        }
      ],
      "source": [
        "!pip install beautifulsoup4 requests\n",
        "\n",
        "from bs4 import BeautifulSoup\n",
        "import requests\n",
        "import time\n",
        "import datetime\n",
        "\n",
        "import smtplib"
      ]
    },
    {
      "cell_type": "code",
      "source": [
        "#connect website\n",
        "URL = 'https://www.ebay.com/itm/285346151806?hash=item426ff4bd7e:g:GMAAAOSwkZtklctb&amdata=enc%3AAQAIAAAA4FhUh8%2F4FuYC%2FZGbm08mlSImWOSfqJ7E%2B%2Ft8pTj4yGNRlSSxSiF9qCvtMEh7KeHksJQVqNlMT0Gq5StZekvp3veL%2FNvNAOMGmwTMEALvJKQnI74ocybBElJ2bmct2miGRu9OfnYXuYxiqVuL7TsWp%2F3uILFkH2DCHCnSLktW5iN4GDoynycJRVPZgv1GV%2F5HFOuBusOY1DIZDpxU4mmBZpV30muYKrVX8QB74gp%2ByTwdjRfDPaueKzO0Lj6ZgatBQgfHhLbsqK8XJG28Gs3Uz8IgTrFJFksHFw8dtrqCN%2BuP%7Ctkp%3ABk9SR_rZy9exYg'\n",
        "\n",
        "headers= {\"User-Agent\": \"Mozilla/5.0 (Windows NT 10.0; Win64; x64) AppleWebKit/537.36 (KHTML, like Gecko) Chrome/114.0.0.0 Safari/537.36\"}\n",
        "\n",
        "page=requests.get(URL, headers=headers)\n",
        "\n",
        "soup1= BeautifulSoup(page.content,\"html.parser\")\n",
        "\n",
        "soup2= BeautifulSoup(soup1.prettify(),\"html.parser\")\n",
        "\n",
        "title_element = soup2.find(class_=\"x-item-title__mainTitle\")\n",
        "title = title_element.get_text()\n",
        "\n",
        "price_element = soup2.find(class_='x-price-primary')\n",
        "price = price_element.find('span', class_='ux-textspans').get_text()\n",
        "\n",
        "\n",
        "print(title)\n",
        "print(price)"
      ],
      "metadata": {
        "colab": {
          "base_uri": "https://localhost:8080/"
        },
        "id": "DQlQrwcGWjva",
        "outputId": "35c588f4-d1aa-4a9f-831a-f269fdfc3f32"
      },
      "execution_count": 57,
      "outputs": [
        {
          "output_type": "stream",
          "name": "stdout",
          "text": [
            "\n",
            "\n",
            "\n",
            "\n",
            "\n",
            "             Barbie The Movie Collectible Doll, Margot Robbie in Gold Disco Jumpsuit  IN HAND\n",
            "            \n",
            "\n",
            "\n",
            "\n",
            "\n",
            "\n",
            "                   US $64.00\n",
            "                  \n"
          ]
        }
      ]
    },
    {
      "cell_type": "code",
      "source": [
        "#make it more clean\n",
        "\n",
        "price= price.strip()[4:]\n",
        "title= title.strip()\n",
        "\n",
        "type(title)\n",
        "type(price)"
      ],
      "metadata": {
        "colab": {
          "base_uri": "https://localhost:8080/"
        },
        "id": "uH9yA25QhVlf",
        "outputId": "6eaa236d-b281-4707-9d1e-f10502600fc0"
      },
      "execution_count": 58,
      "outputs": [
        {
          "output_type": "execute_result",
          "data": {
            "text/plain": [
              "str"
            ]
          },
          "metadata": {},
          "execution_count": 58
        }
      ]
    },
    {
      "cell_type": "code",
      "source": [
        "today=datetime.date.today()\n",
        "print(price)\n",
        "print(today)"
      ],
      "metadata": {
        "colab": {
          "base_uri": "https://localhost:8080/"
        },
        "id": "F2XUagZrqQmE",
        "outputId": "9f1ca0b6-614f-4dd4-f701-3f0712fb8bf3"
      },
      "execution_count": 59,
      "outputs": [
        {
          "output_type": "stream",
          "name": "stdout",
          "text": [
            "64.00\n",
            "2023-07-25\n"
          ]
        }
      ]
    },
    {
      "cell_type": "code",
      "source": [
        "import csv\n",
        "\n",
        "header=[\"Title\", \"Price\",\"Date\"]\n",
        "data=[title,price,today]\n",
        "\n",
        "with open(\"ebay_webscraper_dataset.csv\",\"w\",newline=\"\",encoding=\"UTF8\") as f:\n",
        "  writer=csv.writer(f)\n",
        "  writer.writerow(header)\n",
        "  writer.writerow(data)\n"
      ],
      "metadata": {
        "id": "CSz0opynh3re"
      },
      "execution_count": 60,
      "outputs": []
    },
    {
      "cell_type": "code",
      "source": [
        "import pandas as pd\n",
        "\n",
        "df=pd.read_csv(\"/content/ebay_webscraper_dataset.csv\")"
      ],
      "metadata": {
        "id": "_tjZJR72qd__"
      },
      "execution_count": 63,
      "outputs": []
    },
    {
      "cell_type": "code",
      "source": [
        "#adding data\n",
        "\n",
        "with open(\"ebay_webscraper_dataset.csv\",\"a+\",newline=\"\",encoding=\"UTF8\") as f:\n",
        "  writer=csv.writer(f)\n",
        "  writer.writerow(data)\n"
      ],
      "metadata": {
        "id": "AXIPEimatlOU"
      },
      "execution_count": 64,
      "outputs": []
    },
    {
      "cell_type": "code",
      "source": [
        "def check_price():\n",
        "  URL = 'https://www.ebay.com/itm/285346151806?hash=item426ff4bd7e:g:GMAAAOSwkZtklctb&amdata=enc%3AAQAIAAAA4FhUh8%2F4FuYC%2FZGbm08mlSImWOSfqJ7E%2B%2Ft8pTj4yGNRlSSxSiF9qCvtMEh7KeHksJQVqNlMT0Gq5StZekvp3veL%2FNvNAOMGmwTMEALvJKQnI74ocybBElJ2bmct2miGRu9OfnYXuYxiqVuL7TsWp%2F3uILFkH2DCHCnSLktW5iN4GDoynycJRVPZgv1GV%2F5HFOuBusOY1DIZDpxU4mmBZpV30muYKrVX8QB74gp%2ByTwdjRfDPaueKzO0Lj6ZgatBQgfHhLbsqK8XJG28Gs3Uz8IgTrFJFksHFw8dtrqCN%2BuP%7Ctkp%3ABk9SR_rZy9exYg'\n",
        "\n",
        "  headers= {\"User-Agent\": \"Mozilla/5.0 (Windows NT 10.0; Win64; x64) AppleWebKit/537.36 (KHTML, like Gecko) Chrome/114.0.0.0 Safari/537.36\"}\n",
        "\n",
        "  page=requests.get(URL, headers=headers)\n",
        "\n",
        "  soup1= BeautifulSoup(page.content,\"html.parser\")\n",
        "\n",
        "  soup2= BeautifulSoup(soup1.prettify(),\"html.parser\")\n",
        "\n",
        "  title_element = soup2.find(class_=\"x-item-title__mainTitle\")\n",
        "  title = title_element.get_text()\n",
        "\n",
        "  price_element = soup2.find(class_='x-price-primary')\n",
        "  price = price_element.find('span', class_='ux-textspans').get_text()\n",
        "\n",
        "  price= price.strip()[4:]\n",
        "  title= title.strip()\n",
        "  today=datetime.date.today()\n",
        "\n",
        "  header=[\"Title\", \"Price\",\"Date\"]\n",
        "  data=[title,price,today]\n",
        "\n",
        "  with open(\"ebay_webscraper_dataset.csv\",\"a+\",newline=\"\",encoding=\"UTF8\") as f:\n",
        "    writer=csv.writer(f)\n",
        "    writer.writerow(data)\n"
      ],
      "metadata": {
        "id": "-FJ2qGO9zw0S"
      },
      "execution_count": 65,
      "outputs": []
    },
    {
      "cell_type": "code",
      "source": [
        "#checks the price every day\n",
        "while(True):\n",
        "  check_price()\n",
        "  time.sleep(86400)\n",
        "\n"
      ],
      "metadata": {
        "colab": {
          "base_uri": "https://localhost:8080/",
          "height": 217
        },
        "id": "MhBKq0DQ1Yyg",
        "outputId": "133d0aab-1278-48a4-a467-c0edbd618982"
      },
      "execution_count": 69,
      "outputs": [
        {
          "output_type": "error",
          "ename": "KeyboardInterrupt",
          "evalue": "ignored",
          "traceback": [
            "\u001b[0;31m---------------------------------------------------------------------------\u001b[0m",
            "\u001b[0;31mKeyboardInterrupt\u001b[0m                         Traceback (most recent call last)",
            "\u001b[0;32m<ipython-input-69-b097287e8a45>\u001b[0m in \u001b[0;36m<cell line: 2>\u001b[0;34m()\u001b[0m\n\u001b[1;32m      2\u001b[0m \u001b[0;32mwhile\u001b[0m\u001b[0;34m(\u001b[0m\u001b[0;32mTrue\u001b[0m\u001b[0;34m)\u001b[0m\u001b[0;34m:\u001b[0m\u001b[0;34m\u001b[0m\u001b[0;34m\u001b[0m\u001b[0m\n\u001b[1;32m      3\u001b[0m   \u001b[0mcheck_price\u001b[0m\u001b[0;34m(\u001b[0m\u001b[0;34m)\u001b[0m\u001b[0;34m\u001b[0m\u001b[0;34m\u001b[0m\u001b[0m\n\u001b[0;32m----> 4\u001b[0;31m   \u001b[0mtime\u001b[0m\u001b[0;34m.\u001b[0m\u001b[0msleep\u001b[0m\u001b[0;34m(\u001b[0m\u001b[0;36m86400\u001b[0m\u001b[0;34m)\u001b[0m\u001b[0;34m\u001b[0m\u001b[0;34m\u001b[0m\u001b[0m\n\u001b[0m\u001b[1;32m      5\u001b[0m \u001b[0;34m\u001b[0m\u001b[0m\n",
            "\u001b[0;31mKeyboardInterrupt\u001b[0m: "
          ]
        }
      ]
    },
    {
      "cell_type": "code",
      "source": [
        "import pandas as pd\n",
        "\n",
        "df=pd.read_csv(\"/content/ebay_webscraper_dataset.csv\")"
      ],
      "metadata": {
        "id": "O3B1uove1pYX"
      },
      "execution_count": null,
      "outputs": []
    }
  ]
}