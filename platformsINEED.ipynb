{
  "nbformat": 4,
  "nbformat_minor": 0,
  "metadata": {
    "colab": {
      "provenance": [],
      "authorship_tag": "ABX9TyNGki5jqt1r6pViFD5k4h4u",
      "include_colab_link": true
    },
    "kernelspec": {
      "name": "python3",
      "display_name": "Python 3"
    },
    "language_info": {
      "name": "python"
    }
  },
  "cells": [
    {
      "cell_type": "markdown",
      "metadata": {
        "id": "view-in-github",
        "colab_type": "text"
      },
      "source": [
        "<a href=\"https://colab.research.google.com/github/dogamur/web_scraping/blob/main/platformsINEED.ipynb\" target=\"_parent\"><img src=\"https://colab.research.google.com/assets/colab-badge.svg\" alt=\"Open In Colab\"/></a>"
      ]
    },
    {
      "cell_type": "code",
      "execution_count": 1,
      "metadata": {
        "id": "DAR_7jdtZV3Q"
      },
      "outputs": [],
      "source": [
        "from bs4 import BeautifulSoup\n",
        "import requests\n",
        "import time\n",
        "import datetime\n",
        "\n",
        "import smtplib"
      ]
    },
    {
      "cell_type": "code",
      "source": [
        "#connect website\n",
        "URL=\"https://us.louisvuitton.com/eng-us/products/fame-platform-sandal-nvprod3940099v/1AAZBY\"\n",
        "\n",
        "headers= {\"User-Agent\": \"Mozilla/5.0 (Windows NT 10.0; Win64; x64) AppleWebKit/537.36 (KHTML, like Gecko) Chrome/114.0.0.0 Safari/537.36\"}\n",
        "\n",
        "page=requests.get(URL, headers=headers)\n",
        "\n",
        "soup1= BeautifulSoup(page.content,\"html.parser\")\n",
        "\n",
        "soup2= BeautifulSoup(soup1.prettify(),\"html.parser\")\n",
        "\n",
        "title_element = soup2.find(class_=\"lv-product__name heading-s\")\n",
        "title = title_element.get_text()\n",
        "\n",
        "price_element = soup2.find(class_=\"notranslate\")\n",
        "price = price_element.get_text()\n",
        "\n",
        "print(price)\n",
        "print(title)"
      ],
      "metadata": {
        "colab": {
          "base_uri": "https://localhost:8080/"
        },
        "id": "5xQj_IvEZiGf",
        "outputId": "b8fc558d-c2fe-4d3a-8224-7361ee4f8723"
      },
      "execution_count": 11,
      "outputs": [
        {
          "output_type": "stream",
          "name": "stdout",
          "text": [
            "\n",
            "              $1,210.00\n",
            "             \n",
            "\n",
            "              Fame Platform Sandal\n",
            "             \n"
          ]
        }
      ]
    },
    {
      "cell_type": "code",
      "source": [
        "\n",
        "#make it more clean\n",
        "\n",
        "price= price.strip()[1:]\n",
        "title= title.strip()\n",
        "\n",
        "type(title)\n",
        "type(price)"
      ],
      "metadata": {
        "colab": {
          "base_uri": "https://localhost:8080/"
        },
        "id": "MQB6D1OYcR-L",
        "outputId": "f8c0fd49-3032-43e5-ea5f-be46b9cc30af"
      },
      "execution_count": 12,
      "outputs": [
        {
          "output_type": "execute_result",
          "data": {
            "text/plain": [
              "str"
            ]
          },
          "metadata": {},
          "execution_count": 12
        }
      ]
    },
    {
      "cell_type": "code",
      "source": [
        "today=datetime.date.today()\n",
        "print(price)\n",
        "print(today)"
      ],
      "metadata": {
        "colab": {
          "base_uri": "https://localhost:8080/"
        },
        "id": "Fqr_yYI9cZXa",
        "outputId": "267010e9-8b77-4122-f7e9-ca8bf1196e21"
      },
      "execution_count": 13,
      "outputs": [
        {
          "output_type": "stream",
          "name": "stdout",
          "text": [
            "1,210.00\n",
            "2023-07-25\n"
          ]
        }
      ]
    },
    {
      "cell_type": "code",
      "source": [
        "import csv\n",
        "\n",
        "header=[\"Title\", \"Price\",\"Date\"]\n",
        "data=[title,price,today]\n",
        "\n",
        "with open(\"lvshoes.csv\",\"w\",newline=\"\",encoding=\"UTF8\") as f:\n",
        "  writer=csv.writer(f)\n",
        "  writer.writerow(header)\n",
        "  writer.writerow(data)\n"
      ],
      "metadata": {
        "id": "uB9PVlaAcaXQ"
      },
      "execution_count": 14,
      "outputs": []
    },
    {
      "cell_type": "code",
      "source": [
        "import pandas as pd\n",
        "\n",
        "df=pd.read_csv(\"/content/lvshoes.csv\")"
      ],
      "metadata": {
        "id": "LXSnMzxfciUq"
      },
      "execution_count": 15,
      "outputs": []
    },
    {
      "cell_type": "code",
      "source": [
        "\n",
        "with open(\"/content/lvshoes.csv\",\"a+\",newline=\"\",encoding=\"UTF8\") as f:\n",
        "  writer=csv.writer(f)\n",
        "  writer.writerow(data)"
      ],
      "metadata": {
        "id": "RoN0qHb3coxZ"
      },
      "execution_count": 16,
      "outputs": []
    },
    {
      "cell_type": "code",
      "source": [
        "def check_price():\n",
        "  URL=\"https://us.louisvuitton.com/eng-us/products/fame-platform-sandal-nvprod3940099v/1AAZBY\"\n",
        "\n",
        "  headers= {\"User-Agent\": \"Mozilla/5.0 (Windows NT 10.0; Win64; x64) AppleWebKit/537.36 (KHTML, like Gecko) Chrome/114.0.0.0 Safari/537.36\"}\n",
        "\n",
        "  page=requests.get(URL, headers=headers)\n",
        "\n",
        "  soup1= BeautifulSoup(page.content,\"html.parser\")\n",
        "\n",
        "  soup2= BeautifulSoup(soup1.prettify(),\"html.parser\")\n",
        "\n",
        "  title_element = soup2.find(class_=\"lv-product__name heading-s\")\n",
        "  title = title_element.get_text()\n",
        "\n",
        "  price_element = soup2.find(class_=\"notranslate\")\n",
        "  price = price_element.get_text()\n",
        "\n",
        "  price= price.strip()[1:]\n",
        "  title= title.strip()\n",
        "  today=datetime.date.today()\n",
        "\n",
        "  header=[\"Title\", \"Price\",\"Date\"]\n",
        "  data=[title,price,today]\n",
        "\n",
        "  with open(\"/content/lvshoes.csv\",\"a+\",newline=\"\",encoding=\"UTF8\") as f:\n",
        "    writer=csv.writer(f)\n",
        "    writer.writerow(data)"
      ],
      "metadata": {
        "id": "WW0KaIMVcwsQ"
      },
      "execution_count": 17,
      "outputs": []
    },
    {
      "cell_type": "code",
      "source": [
        "\n",
        "#checks the price every day\n",
        "while(True):\n",
        "  check_price()\n",
        "  time.sleep(86400)"
      ],
      "metadata": {
        "colab": {
          "base_uri": "https://localhost:8080/",
          "height": 200
        },
        "id": "LYeRu3Eoc-dj",
        "outputId": "5acf423d-861f-41de-9694-230b1340c5d6"
      },
      "execution_count": 18,
      "outputs": [
        {
          "output_type": "error",
          "ename": "KeyboardInterrupt",
          "evalue": "ignored",
          "traceback": [
            "\u001b[0;31m---------------------------------------------------------------------------\u001b[0m",
            "\u001b[0;31mKeyboardInterrupt\u001b[0m                         Traceback (most recent call last)",
            "\u001b[0;32m<ipython-input-18-d87151c77c71>\u001b[0m in \u001b[0;36m<cell line: 2>\u001b[0;34m()\u001b[0m\n\u001b[1;32m      2\u001b[0m \u001b[0;32mwhile\u001b[0m\u001b[0;34m(\u001b[0m\u001b[0;32mTrue\u001b[0m\u001b[0;34m)\u001b[0m\u001b[0;34m:\u001b[0m\u001b[0;34m\u001b[0m\u001b[0;34m\u001b[0m\u001b[0m\n\u001b[1;32m      3\u001b[0m   \u001b[0mcheck_price\u001b[0m\u001b[0;34m(\u001b[0m\u001b[0;34m)\u001b[0m\u001b[0;34m\u001b[0m\u001b[0;34m\u001b[0m\u001b[0m\n\u001b[0;32m----> 4\u001b[0;31m   \u001b[0mtime\u001b[0m\u001b[0;34m.\u001b[0m\u001b[0msleep\u001b[0m\u001b[0;34m(\u001b[0m\u001b[0;36m86400\u001b[0m\u001b[0;34m)\u001b[0m\u001b[0;34m\u001b[0m\u001b[0;34m\u001b[0m\u001b[0m\n\u001b[0m",
            "\u001b[0;31mKeyboardInterrupt\u001b[0m: "
          ]
        }
      ]
    },
    {
      "cell_type": "code",
      "source": [
        "import pandas as pd\n",
        "\n",
        "df=pd.read_csv(\"/content/lvshoes.csv\")"
      ],
      "metadata": {
        "id": "AEABSOqNdEc2"
      },
      "execution_count": null,
      "outputs": []
    }
  ]
}